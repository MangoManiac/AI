{
 "cells": [
  {
   "cell_type": "markdown",
   "id": "390b520d",
   "metadata": {
    "id": "390b520d"
   },
   "source": [
    "Khawaja Usman Tahir"
   ]
  },
  {
   "cell_type": "markdown",
   "id": "f2ad1358",
   "metadata": {
    "id": "f2ad1358"
   },
   "source": [
    "## Imports"
   ]
  },
  {
   "cell_type": "markdown",
   "id": "Kj0p5blu4QfF",
   "metadata": {
    "id": "Kj0p5blu4QfF"
   },
   "source": [
    "Import various libraries"
   ]
  },
  {
   "cell_type": "code",
   "execution_count": null,
   "id": "fa428c93",
   "metadata": {
    "id": "fa428c93"
   },
   "outputs": [],
   "source": [
    "import torch\n",
    "import torch.nn as nn\n",
    "from torch.autograd import Variable\n",
    "import torch.optim as optim\n",
    "import torchvision\n",
    "import torchvision.transforms as transforms\n",
    "import torchvision.datasets as dsets\n",
    "import torch.nn.functional as F\n",
    "import matplotlib.pyplot as plt"
   ]
  },
  {
   "cell_type": "markdown",
   "id": "5a92bdce",
   "metadata": {
    "id": "5a92bdce"
   },
   "source": [
    "## dataset loading"
   ]
  },
  {
   "cell_type": "markdown",
   "id": "89T8MPKO4U9i",
   "metadata": {
    "id": "89T8MPKO4U9i"
   },
   "source": [
    "load the training and test sets"
   ]
  },
  {
   "cell_type": "code",
   "execution_count": null,
   "id": "fd12894f",
   "metadata": {
    "colab": {
     "base_uri": "https://localhost:8080/",
     "height": 423,
     "referenced_widgets": [
      "ed4cf8a561034f69b1913d60a4f18e9a",
      "01a2e6e05c8e40c480a89ace9e6d3042",
      "bc29dcac76aa4f209f1984533766db57",
      "15ebcaf5365f427bb21a91db79c185f0",
      "ec2dbcfc1e714196889549837d9473e9",
      "e33f88f68a0d457f987340c4ab93affb",
      "1c3ce456b1a54a7fb0cb229b54492a76",
      "1d0e3d7fb64d4b17ae2867b6dce814bd",
      "448faf92a39d4834aeb3fa3dcd914657",
      "3a9a7b5411da4d7389e6d143f14e4517",
      "878323c2883c4948b99ff9fcb5272ed9",
      "9d349b192ab74cb4832e3fa15b3db0de",
      "0f873b686fe640cc9fc318e3dd655deb",
      "cf4e9c0a135742fc9b8c176f8dbad8c1",
      "d6d226df68994a6c9951deb7b7a3fd89",
      "6a7768b681eb4b5598a1dfb5781f72c6",
      "dce37ccab0de496786bc6b5fee3767c0",
      "bca85df6ac0544d0b56ed8c94edd2fb7",
      "438c316a1bf24733a70d4b4f9560a9f5",
      "32277ee64c9b4267aad0a0999c4907b3",
      "3724ae1b686f42cb957df3ff8ee60da9",
      "31648a82b9954fbb9fa5915c02402314",
      "7d075e8f895c440b85e5fdb75812bb51",
      "0139e5af1d0b41b7ac1d26e66657349d",
      "9e2bb29cca4d4df8a932953c82c9c23c",
      "55a20bc5c9f24b20a8657123e09eeec6",
      "1654d8725cd64dbc92ffb5b269a84817",
      "374f275d34c341798b6f9153a48645e4",
      "482a90a8cc01456ab8f65b3ccbe225cd",
      "87da33861227437497f1c9310068431d",
      "24e4bb33bfb74f2489e8a3ba245f53e2",
      "378001ec3c7f4cd8956dbc125447fa60",
      "78f818315a1e412593ccce7327e1cb9c",
      "b1a28a2e4a784958b8e592bd61f85634",
      "190a8d1acd9c4e5586efa72d7e54d92d",
      "f47f50cc7af1452f95974d77c5ab5faa",
      "df69f76c7249447886d8ac2753749407",
      "9b435a598ede4c8d81269614426f72e9",
      "78fb70906fd745a9a297404ea96ace43",
      "680f8f2283cc4851acf90cd98b0ee529",
      "c9ef224b5dec475584dafa7f5760ddcb",
      "5704851b67f640fe8417bba58108668b",
      "ff1f646907b44b7f9e68b21c50d56be5",
      "b4c9e6a5a2854747b3cb9f8dc68327ac"
     ]
    },
    "executionInfo": {
     "elapsed": 6169,
     "status": "ok",
     "timestamp": 1640311873890,
     "user": {
      "displayName": "Khawaja Tahir",
      "photoUrl": "https://lh3.googleusercontent.com/a/default-user=s64",
      "userId": "00411347358592355341"
     },
     "user_tz": 0
    },
    "id": "fd12894f",
    "outputId": "9f86d512-096e-4682-e995-f5f1096d89cc"
   },
   "outputs": [
    {
     "name": "stdout",
     "output_type": "stream",
     "text": [
      "Downloading http://fashion-mnist.s3-website.eu-central-1.amazonaws.com/train-images-idx3-ubyte.gz\n",
      "Downloading http://fashion-mnist.s3-website.eu-central-1.amazonaws.com/train-images-idx3-ubyte.gz to ./FashionMNIST/raw/train-images-idx3-ubyte.gz\n"
     ]
    },
    {
     "data": {
      "application/vnd.jupyter.widget-view+json": {
       "model_id": "ed4cf8a561034f69b1913d60a4f18e9a",
       "version_major": 2,
       "version_minor": 0
      },
      "text/plain": [
       "  0%|          | 0/26421880 [00:00<?, ?it/s]"
      ]
     },
     "metadata": {},
     "output_type": "display_data"
    },
    {
     "name": "stdout",
     "output_type": "stream",
     "text": [
      "Extracting ./FashionMNIST/raw/train-images-idx3-ubyte.gz to ./FashionMNIST/raw\n",
      "\n",
      "Downloading http://fashion-mnist.s3-website.eu-central-1.amazonaws.com/train-labels-idx1-ubyte.gz\n",
      "Downloading http://fashion-mnist.s3-website.eu-central-1.amazonaws.com/train-labels-idx1-ubyte.gz to ./FashionMNIST/raw/train-labels-idx1-ubyte.gz\n"
     ]
    },
    {
     "data": {
      "application/vnd.jupyter.widget-view+json": {
       "model_id": "9d349b192ab74cb4832e3fa15b3db0de",
       "version_major": 2,
       "version_minor": 0
      },
      "text/plain": [
       "  0%|          | 0/29515 [00:00<?, ?it/s]"
      ]
     },
     "metadata": {},
     "output_type": "display_data"
    },
    {
     "name": "stdout",
     "output_type": "stream",
     "text": [
      "Extracting ./FashionMNIST/raw/train-labels-idx1-ubyte.gz to ./FashionMNIST/raw\n",
      "\n",
      "Downloading http://fashion-mnist.s3-website.eu-central-1.amazonaws.com/t10k-images-idx3-ubyte.gz\n",
      "Downloading http://fashion-mnist.s3-website.eu-central-1.amazonaws.com/t10k-images-idx3-ubyte.gz to ./FashionMNIST/raw/t10k-images-idx3-ubyte.gz\n"
     ]
    },
    {
     "data": {
      "application/vnd.jupyter.widget-view+json": {
       "model_id": "7d075e8f895c440b85e5fdb75812bb51",
       "version_major": 2,
       "version_minor": 0
      },
      "text/plain": [
       "  0%|          | 0/4422102 [00:00<?, ?it/s]"
      ]
     },
     "metadata": {},
     "output_type": "display_data"
    },
    {
     "name": "stdout",
     "output_type": "stream",
     "text": [
      "Extracting ./FashionMNIST/raw/t10k-images-idx3-ubyte.gz to ./FashionMNIST/raw\n",
      "\n",
      "Downloading http://fashion-mnist.s3-website.eu-central-1.amazonaws.com/t10k-labels-idx1-ubyte.gz\n",
      "Downloading http://fashion-mnist.s3-website.eu-central-1.amazonaws.com/t10k-labels-idx1-ubyte.gz to ./FashionMNIST/raw/t10k-labels-idx1-ubyte.gz\n"
     ]
    },
    {
     "data": {
      "application/vnd.jupyter.widget-view+json": {
       "model_id": "b1a28a2e4a784958b8e592bd61f85634",
       "version_major": 2,
       "version_minor": 0
      },
      "text/plain": [
       "  0%|          | 0/5148 [00:00<?, ?it/s]"
      ]
     },
     "metadata": {},
     "output_type": "display_data"
    },
    {
     "name": "stdout",
     "output_type": "stream",
     "text": [
      "Extracting ./FashionMNIST/raw/t10k-labels-idx1-ubyte.gz to ./FashionMNIST/raw\n",
      "\n"
     ]
    }
   ],
   "source": [
    "train_set = torchvision.datasets.FashionMNIST(root=\".\", train = True, download=True, transform= transforms.ToTensor())\n",
    "\n",
    "test_set = torchvision.datasets.FashionMNIST(root=\".\", train = False, download=True, transform= transforms.ToTensor())\n",
    "\n",
    "training_loader = torch.utils.data.DataLoader(train_set, batch_size=32, shuffle= False)\n",
    "\n",
    "testing_loader = torch.utils.data.DataLoader(test_set, batch_size=32, shuffle= False)\n",
    "\n",
    "torch.manual_seed(0)\n",
    "\n",
    "# If you are using CuDNN , otherwise you can just ignore\n",
    "torch.backends.cudnn.deterministic = True\n",
    "torch.backends.cudnn.benchmark = False"
   ]
  },
  {
   "cell_type": "markdown",
   "id": "7ea20fc0",
   "metadata": {
    "id": "7ea20fc0"
   },
   "source": [
    "## Create the Neural Network"
   ]
  },
  {
   "cell_type": "markdown",
   "id": "RZi91-Ad4ZmG",
   "metadata": {
    "id": "RZi91-Ad4ZmG"
   },
   "source": [
    "Create a Neural Network with 2 fully connected layers"
   ]
  },
  {
   "cell_type": "code",
   "execution_count": null,
   "id": "4831bd83",
   "metadata": {
    "id": "4831bd83"
   },
   "outputs": [],
   "source": [
    "class NN(nn.Module):\n",
    "    \n",
    "    def __init__(self):\n",
    "        super(NN, self).__init__()\n",
    "        \n",
    "        self.conv1 = nn.Conv2d(1, 32, 5)\n",
    "        self.conv2 = nn.Conv2d(32, 64, 5)\n",
    "        \n",
    "        # Xavier initialisation\n",
    "        nn.init.xavier_normal_(self.conv1.weight)\n",
    "        nn.init.xavier_normal_(self.conv2.weight)\n",
    "        \n",
    "        \n",
    "        self.fc1 = nn.Linear(64 * 4 * 4, 256)\n",
    "        nn.init.xavier_normal_(self.fc1.weight)\n",
    "        self.fc2 = nn.Linear(256, 10)\n",
    "        nn.init.xavier_normal_(self.fc2.weight)\n",
    "        \n",
    "        \n",
    "        # dropout \n",
    "        self.dropout = torch.nn.Dropout(0.1)\n",
    "        \n",
    "    def forward(self, x):\n",
    "        \n",
    "        x = F.max_pool2d(F.relu(self.conv1(x)), (2,2))\n",
    "        x = F.max_pool2d(F.relu(self.conv2(x)), (2,2))\n",
    "        \n",
    "        x = x.view(x.size(0), -1)\n",
    "        \n",
    "        # activation function relu\n",
    "        x = F.relu(self.fc1(x))\n",
    "        # x = F.tanh(self.fc1(x))\n",
    "        # x = F.sigmoid(self.fc1(x))\n",
    "        # x = F.elu(self.fc1(x))\n",
    "        \n",
    "\n",
    "        # droput 2nd layer\n",
    "        x = self.dropout((x))\n",
    "        # output\n",
    "        x = self.fc2(x)\n",
    "        \n",
    "        \n",
    "        \n",
    "        return x"
   ]
  },
  {
   "cell_type": "markdown",
   "id": "b621da69",
   "metadata": {
    "id": "b621da69"
   },
   "source": [
    "## Evaluation"
   ]
  },
  {
   "cell_type": "markdown",
   "id": "eoq8MnvQ4pNN",
   "metadata": {
    "id": "eoq8MnvQ4pNN"
   },
   "source": [
    "A method for evaluating the accuracy of the predictions"
   ]
  },
  {
   "cell_type": "code",
   "execution_count": null,
   "id": "8bb797a3",
   "metadata": {
    "id": "8bb797a3"
   },
   "outputs": [],
   "source": [
    "def evaluation(model, data_loader):\n",
    "    \n",
    "    model.eval()\n",
    "    tot, right = 0, 0\n",
    "    \n",
    "    for data in data_loader:\n",
    "        inputs, label = data\n",
    "        \n",
    "        # using google colab\n",
    "        if torch.cuda.is_available():\n",
    "            inputs = inputs.cuda()\n",
    "            label = label.cuda()\n",
    "            \n",
    "        outputs = model(inputs)\n",
    "        _, prediction = torch.max(outputs.data, 1)\n",
    "        tot = tot + label.size(0)\n",
    "        right = right + (prediction == label).sum().item()\n",
    "        \n",
    "        # calculating  accuracy\n",
    "        acc = 100 * (right / tot)\n",
    "\n",
    "    return acc"
   ]
  },
  {
   "cell_type": "markdown",
   "id": "9cded17f",
   "metadata": {
    "id": "9cded17f"
   },
   "source": [
    "## Testing"
   ]
  },
  {
   "cell_type": "markdown",
   "id": "qrmD3k5F4wQy",
   "metadata": {
    "id": "qrmD3k5F4wQy"
   },
   "source": [
    "Test the neural network. It uses SDG optimizer, Cross Entropy Loss function and a variable learning rate"
   ]
  },
  {
   "cell_type": "code",
   "execution_count": null,
   "id": "389050ea",
   "metadata": {
    "colab": {
     "background_save": true,
     "base_uri": "https://localhost:8080/"
    },
    "id": "389050ea",
    "outputId": "c0958115-374d-4c7a-8487-a71930ec7381"
   },
   "outputs": [
    {
     "name": "stdout",
     "output_type": "stream",
     "text": [
      "Epoch [1/50], Loss: 1011.5862, Training Accuracy: 86.61%, Testing Accuracy: 85.14%\n",
      "Epoch [2/50], Loss: 634.4838, Training Accuracy: 89.32%, Testing Accuracy: 87.73%\n",
      "Epoch [3/50], Loss: 547.1828, Training Accuracy: 90.38%, Testing Accuracy: 88.52%\n",
      "Epoch [4/50], Loss: 491.5944, Training Accuracy: 91.28%, Testing Accuracy: 89.37%\n",
      "Epoch [5/50], Loss: 450.5290, Training Accuracy: 91.83%, Testing Accuracy: 89.56%\n",
      "Epoch [6/50], Loss: 413.2115, Training Accuracy: 92.18%, Testing Accuracy: 89.75%\n",
      "Epoch [7/50], Loss: 379.9383, Training Accuracy: 92.66%, Testing Accuracy: 89.94%\n",
      "Epoch [8/50], Loss: 348.4338, Training Accuracy: 92.31%, Testing Accuracy: 89.46%\n",
      "Epoch [9/50], Loss: 320.9574, Training Accuracy: 92.95%, Testing Accuracy: 89.43%\n",
      "Epoch [10/50], Loss: 298.8398, Training Accuracy: 93.53%, Testing Accuracy: 89.94%\n",
      "Epoch [11/50], Loss: 278.0960, Training Accuracy: 92.82%, Testing Accuracy: 88.97%\n",
      "Epoch [12/50], Loss: 260.9070, Training Accuracy: 93.53%, Testing Accuracy: 89.96%\n",
      "Epoch [13/50], Loss: 236.4994, Training Accuracy: 93.56%, Testing Accuracy: 89.55%\n",
      "Epoch [14/50], Loss: 221.1568, Training Accuracy: 94.90%, Testing Accuracy: 90.40%\n",
      "Epoch [15/50], Loss: 217.7890, Training Accuracy: 94.58%, Testing Accuracy: 90.28%\n",
      "Epoch [16/50], Loss: 203.4240, Training Accuracy: 94.66%, Testing Accuracy: 89.92%\n",
      "Epoch [17/50], Loss: 188.8298, Training Accuracy: 94.77%, Testing Accuracy: 90.33%\n",
      "Epoch [18/50], Loss: 180.4290, Training Accuracy: 94.80%, Testing Accuracy: 89.67%\n",
      "Epoch [19/50], Loss: 177.8505, Training Accuracy: 95.09%, Testing Accuracy: 90.53%\n",
      "Epoch [20/50], Loss: 170.8233, Training Accuracy: 95.73%, Testing Accuracy: 90.55%\n",
      "Epoch [21/50], Loss: 155.1282, Training Accuracy: 94.91%, Testing Accuracy: 89.78%\n",
      "Epoch [22/50], Loss: 152.1443, Training Accuracy: 95.62%, Testing Accuracy: 89.88%\n",
      "Epoch [23/50], Loss: 147.9303, Training Accuracy: 95.64%, Testing Accuracy: 90.02%\n",
      "Epoch [24/50], Loss: 139.2215, Training Accuracy: 96.31%, Testing Accuracy: 90.55%\n",
      "Epoch [25/50], Loss: 131.3284, Training Accuracy: 95.85%, Testing Accuracy: 90.28%\n",
      "Epoch [26/50], Loss: 129.2323, Training Accuracy: 96.08%, Testing Accuracy: 90.01%\n",
      "Epoch [27/50], Loss: 127.5915, Training Accuracy: 95.82%, Testing Accuracy: 90.32%\n",
      "Epoch [28/50], Loss: 122.3590, Training Accuracy: 95.45%, Testing Accuracy: 89.84%\n",
      "Epoch [29/50], Loss: 132.6475, Training Accuracy: 95.84%, Testing Accuracy: 89.95%\n",
      "Epoch [30/50], Loss: 111.5030, Training Accuracy: 96.09%, Testing Accuracy: 89.92%\n",
      "Epoch [31/50], Loss: 113.9306, Training Accuracy: 96.68%, Testing Accuracy: 90.43%\n",
      "Epoch [32/50], Loss: 119.6257, Training Accuracy: 96.83%, Testing Accuracy: 90.45%\n",
      "Epoch [33/50], Loss: 103.7409, Training Accuracy: 97.14%, Testing Accuracy: 90.44%\n",
      "Epoch [34/50], Loss: 108.1602, Training Accuracy: 96.83%, Testing Accuracy: 90.20%\n",
      "Epoch [35/50], Loss: 89.7815, Training Accuracy: 96.98%, Testing Accuracy: 90.23%\n",
      "Epoch [36/50], Loss: 102.0709, Training Accuracy: 97.53%, Testing Accuracy: 90.49%\n",
      "Epoch [37/50], Loss: 95.4186, Training Accuracy: 97.46%, Testing Accuracy: 90.26%\n",
      "Epoch [38/50], Loss: 96.9252, Training Accuracy: 97.61%, Testing Accuracy: 90.39%\n",
      "Epoch [39/50], Loss: 85.6880, Training Accuracy: 97.52%, Testing Accuracy: 90.24%\n",
      "Epoch [40/50], Loss: 89.3560, Training Accuracy: 97.51%, Testing Accuracy: 90.14%\n",
      "Epoch [41/50], Loss: 84.7733, Training Accuracy: 97.33%, Testing Accuracy: 90.09%\n",
      "Epoch [42/50], Loss: 88.3996, Training Accuracy: 97.35%, Testing Accuracy: 90.55%\n",
      "Epoch [43/50], Loss: 91.4349, Training Accuracy: 97.27%, Testing Accuracy: 90.01%\n",
      "Epoch [44/50], Loss: 79.1007, Training Accuracy: 97.97%, Testing Accuracy: 90.59%\n",
      "Epoch [45/50], Loss: 76.4227, Training Accuracy: 97.65%, Testing Accuracy: 89.98%\n",
      "Epoch [46/50], Loss: 82.2084, Training Accuracy: 97.77%, Testing Accuracy: 90.29%\n",
      "Epoch [47/50], Loss: 85.4559, Training Accuracy: 97.28%, Testing Accuracy: 90.54%\n",
      "Epoch [48/50], Loss: 86.3212, Training Accuracy: 97.75%, Testing Accuracy: 90.37%\n",
      "Epoch [49/50], Loss: 91.3499, Training Accuracy: 97.40%, Testing Accuracy: 90.23%\n",
      "Epoch [50/50], Loss: 84.8889, Training Accuracy: 97.48%, Testing Accuracy: 90.16%\n"
     ]
    }
   ],
   "source": [
    "# Initialize the model\n",
    "model = NN()\n",
    "\n",
    "# lr = learning rate\n",
    "lr = 0.1\n",
    "\n",
    "# loss function\n",
    "criterion = nn.CrossEntropyLoss()\n",
    "\n",
    "# SDG optimizer\n",
    "optimizer = optim.SGD(model.parameters(), lr = lr)\n",
    "\n",
    "# loss\n",
    "tot_loss_list = []\n",
    "# train accuracy\n",
    "train_acc_list = []\n",
    "# test acc\n",
    "test_acc_list = []\n",
    "\n",
    "# number of epochs\n",
    "epoch_amount = 50\n",
    "\n",
    "for epoch in range(epoch_amount):\n",
    "    \n",
    "    loss_list = []\n",
    "    \n",
    "    for i, (images, labels) in enumerate(training_loader):\n",
    "        \n",
    "        # train the model\n",
    "        model.train()\n",
    "        \n",
    "        # using google colab\n",
    "        if torch.cuda.is_available():\n",
    "            images = images.cuda()\n",
    "            labels = labels.cuda()\n",
    "            model.cuda()\n",
    "            \n",
    "        outputs = model(images)\n",
    "        \n",
    "        # calculating the loss\n",
    "        loss = criterion(outputs, labels)\n",
    "        \n",
    "        loss_list.append(loss.item())\n",
    "           \n",
    "        optimizer.zero_grad()\n",
    "        \n",
    "        # backpropagation\n",
    "        loss.backward()\n",
    "        \n",
    "        # optimization\n",
    "        optimizer.step()\n",
    "        \n",
    "        \n",
    "    # get train accuracy and append in list \n",
    "    train_acc = evaluation(model, training_loader)\n",
    "    train_acc_list.append(train_acc)\n",
    "\n",
    "    # get test accuracy and append in list \n",
    "    test_acc = evaluation(model, testing_loader)\n",
    "    test_acc_list.append(test_acc)\n",
    "    \n",
    "    tot_loss_list.append(sum(loss_list))\n",
    "    \n",
    "    print('Epoch [{}/{}], Loss: {:.4f}, Training Accuracy: {:.2f}%, Testing Accuracy: {:.2f}%'\n",
    "          .format(epoch + 1, epoch_amount, sum(loss_list), train_acc, test_acc))\n"
   ]
  },
  {
   "cell_type": "markdown",
   "id": "9453c029",
   "metadata": {
    "id": "9453c029"
   },
   "source": [
    "## Graphs"
   ]
  },
  {
   "cell_type": "markdown",
   "id": "KC2C4NVs5Am2",
   "metadata": {
    "id": "KC2C4NVs5Am2"
   },
   "source": [
    "Plot the graphs for the accuracies and loss"
   ]
  },
  {
   "cell_type": "code",
   "execution_count": null,
   "id": "cb14bf53",
   "metadata": {
    "colab": {
     "base_uri": "https://localhost:8080/",
     "height": 545
    },
    "executionInfo": {
     "elapsed": 811,
     "status": "ok",
     "timestamp": 1640305842808,
     "user": {
      "displayName": "Khawaja Tahir",
      "photoUrl": "https://lh3.googleusercontent.com/a/default-user=s64",
      "userId": "00411347358592355341"
     },
     "user_tz": 0
    },
    "id": "cb14bf53",
    "outputId": "613eae4f-6ab2-4452-8322-4007172d4e8e"
   },
   "outputs": [
    {
     "data": {
      "image/png": "[encoded data removed]",
      "text/plain": [
       "<Figure size 432x288 with 1 Axes>"
      ]
     },
     "metadata": {},
     "output_type": "display_data"
    },
    {
     "data": {
      "image/png": "[encoded data removed]",
      "text/plain": [
       "<Figure size 432x288 with 1 Axes>"
      ]
     },
     "metadata": {},
     "output_type": "display_data"
    }
   ],
   "source": [
    "# accuracy graph\n",
    "plt.plot(train_acc_list, label = \"Training Accuracy\")\n",
    "plt.plot(test_acc_list, label=\"Testing Accuracy\")\n",
    "plt.title('Testing and Training accuracy at Learning Rate={}'.format(lr))\n",
    "plt.legend()\n",
    "plt.show()\n",
    "\n",
    "# loss graph\n",
    "\n",
    "plt.plot(tot_loss_list, label= \"loss\")\n",
    "plt.title('Loss per epoch at Learning Rate={}'.format(lr))\n",
    "plt.legend()\n",
    "plt.show()\n"
   ]
  },
  {
   "cell_type": "markdown",
   "id": "b1db0fb4",
   "metadata": {
    "id": "b1db0fb4"
   },
   "source": [
    "The End"
   ]
  }
 ],
 "metadata": {
  "accelerator": "GPU",
  "colab": {
   "collapsed_sections": [],
   "name": "180311255.ipynb",
   "provenance": []
  },
  "kernelspec": {
   "display_name": "Python 3 (ipykernel)",
   "language": "python",
   "name": "python3"
  },
  "language_info": {
   "codemirror_mode": {
    "name": "ipython",
    "version": 3
   },
   "file_extension": ".py",
   "mimetype": "text/x-python",
   "name": "python",
   "nbconvert_exporter": "python",
   "pygments_lexer": "ipython3",
   "version": "3.8.11"
  },
  "widgets": {
   "application/vnd.jupyter.widget-state+json": {
    "0139e5af1d0b41b7ac1d26e66657349d": {
     "model_module": "@jupyter-widgets/controls",
     "model_module_version": "1.5.0",
     "model_name": "HTMLModel",
     "state": {
      "_dom_classes": [],
      "_model_module": "@jupyter-widgets/controls",
      "_model_module_version": "1.5.0",
      "_model_name": "HTMLModel",
      "_view_count": null,
      "_view_module": "@jupyter-widgets/controls",
      "_view_module_version": "1.5.0",
      "_view_name": "HTMLView",
      "description": "",
      "description_tooltip": null,
      "layout": "IPY_MODEL_374f275d34c341798b6f9153a48645e4",
      "placeholder": "​",
      "style": "IPY_MODEL_482a90a8cc01456ab8f65b3ccbe225cd",
      "value": ""
     }
    },
    "01a2e6e05c8e40c480a89ace9e6d3042": {
     "model_module": "@jupyter-widgets/controls",
     "model_module_version": "1.5.0",
     "model_name": "HTMLModel",
     "state": {
      "_dom_classes": [],
      "_model_module": "@jupyter-widgets/controls",
      "_model_module_version": "1.5.0",
      "_model_name": "HTMLModel",
      "_view_count": null,
      "_view_module": "@jupyter-widgets/controls",
      "_view_module_version": "1.5.0",
      "_view_name": "HTMLView",
      "description": "",
      "description_tooltip": null,
      "layout": "IPY_MODEL_e33f88f68a0d457f987340c4ab93affb",
      "placeholder": "​",
      "style": "IPY_MODEL_1c3ce456b1a54a7fb0cb229b54492a76",
      "value": ""
     }
    },
    "0f873b686fe640cc9fc318e3dd655deb": {
     "model_module": "@jupyter-widgets/controls",
     "model_module_version": "1.5.0",
     "model_name": "HTMLModel",
     "state": {
      "_dom_classes": [],
      "_model_module": "@jupyter-widgets/controls",
      "_model_module_version": "1.5.0",
      "_model_name": "HTMLModel",
      "_view_count": null,
      "_view_module": "@jupyter-widgets/controls",
      "_view_module_version": "1.5.0",
      "_view_name": "HTMLView",
      "description": "",
      "description_tooltip": null,
      "layout": "IPY_MODEL_dce37ccab0de496786bc6b5fee3767c0",
      "placeholder": "​",
      "style": "IPY_MODEL_bca85df6ac0544d0b56ed8c94edd2fb7",
      "value": ""
     }
    },
    "15ebcaf5365f427bb21a91db79c185f0": {
     "model_module": "@jupyter-widgets/controls",
     "model_module_version": "1.5.0",
     "model_name": "HTMLModel",
     "state": {
      "_dom_classes": [],
      "_model_module": "@jupyter-widgets/controls",
      "_model_module_version": "1.5.0",
      "_model_name": "HTMLModel",
      "_view_count": null,
      "_view_module": "@jupyter-widgets/controls",
      "_view_module_version": "1.5.0",
      "_view_name": "HTMLView",
      "description": "",
      "description_tooltip": null,
      "layout": "IPY_MODEL_3a9a7b5411da4d7389e6d143f14e4517",
      "placeholder": "​",
      "style": "IPY_MODEL_878323c2883c4948b99ff9fcb5272ed9",
      "value": " 26422272/? [00:01&lt;00:00, 22661593.37it/s]"
     }
    },
    "1654d8725cd64dbc92ffb5b269a84817": {
     "model_module": "@jupyter-widgets/base",
     "model_module_version": "1.2.0",
     "model_name": "LayoutModel",
     "state": {
      "_model_module": "@jupyter-widgets/base",
      "_model_module_version": "1.2.0",
      "_model_name": "LayoutModel",
      "_view_count": null,
      "_view_module": "@jupyter-widgets/base",
      "_view_module_version": "1.2.0",
      "_view_name": "LayoutView",
      "align_content": null,
      "align_items": null,
      "align_self": null,
      "border": null,
      "bottom": null,
      "display": null,
      "flex": null,
      "flex_flow": null,
      "grid_area": null,
      "grid_auto_columns": null,
      "grid_auto_flow": null,
      "grid_auto_rows": null,
      "grid_column": null,
      "grid_gap": null,
      "grid_row": null,
      "grid_template_areas": null,
      "grid_template_columns": null,
      "grid_template_rows": null,
      "height": null,
      "justify_content": null,
      "justify_items": null,
      "left": null,
      "margin": null,
      "max_height": null,
      "max_width": null,
      "min_height": null,
      "min_width": null,
      "object_fit": null,
      "object_position": null,
      "order": null,
      "overflow": null,
      "overflow_x": null,
      "overflow_y": null,
      "padding": null,
      "right": null,
      "top": null,
      "visibility": null,
      "width": null
     }
    },
    "190a8d1acd9c4e5586efa72d7e54d92d": {
     "model_module": "@jupyter-widgets/controls",
     "model_module_version": "1.5.0",
     "model_name": "HTMLModel",
     "state": {
      "_dom_classes": [],
      "_model_module": "@jupyter-widgets/controls",
      "_model_module_version": "1.5.0",
      "_model_name": "HTMLModel",
      "_view_count": null,
      "_view_module": "@jupyter-widgets/controls",
      "_view_module_version": "1.5.0",
      "_view_name": "HTMLView",
      "description": "",
      "description_tooltip": null,
      "layout": "IPY_MODEL_78fb70906fd745a9a297404ea96ace43",
      "placeholder": "​",
      "style": "IPY_MODEL_680f8f2283cc4851acf90cd98b0ee529",
      "value": ""
     }
    },
    "1c3ce456b1a54a7fb0cb229b54492a76": {
     "model_module": "@jupyter-widgets/controls",
     "model_module_version": "1.5.0",
     "model_name": "DescriptionStyleModel",
     "state": {
      "_model_module": "@jupyter-widgets/controls",
      "_model_module_version": "1.5.0",
      "_model_name": "DescriptionStyleModel",
      "_view_count": null,
      "_view_module": "@jupyter-widgets/base",
      "_view_module_version": "1.2.0",
      "_view_name": "StyleView",
      "description_width": ""
     }
    },
    "1d0e3d7fb64d4b17ae2867b6dce814bd": {
     "model_module": "@jupyter-widgets/base",
     "model_module_version": "1.2.0",
     "model_name": "LayoutModel",
     "state": {
      "_model_module": "@jupyter-widgets/base",
      "_model_module_version": "1.2.0",
      "_model_name": "LayoutModel",
      "_view_count": null,
      "_view_module": "@jupyter-widgets/base",
      "_view_module_version": "1.2.0",
      "_view_name": "LayoutView",
      "align_content": null,
      "align_items": null,
      "align_self": null,
      "border": null,
      "bottom": null,
      "display": null,
      "flex": null,
      "flex_flow": null,
      "grid_area": null,
      "grid_auto_columns": null,
      "grid_auto_flow": null,
      "grid_auto_rows": null,
      "grid_column": null,
      "grid_gap": null,
      "grid_row": null,
      "grid_template_areas": null,
      "grid_template_columns": null,
      "grid_template_rows": null,
      "height": null,
      "justify_content": null,
      "justify_items": null,
      "left": null,
      "margin": null,
      "max_height": null,
      "max_width": null,
      "min_height": null,
      "min_width": null,
      "object_fit": null,
      "object_position": null,
      "order": null,
      "overflow": null,
      "overflow_x": null,
      "overflow_y": null,
      "padding": null,
      "right": null,
      "top": null,
      "visibility": null,
      "width": null
     }
    },
    "24e4bb33bfb74f2489e8a3ba245f53e2": {
     "model_module": "@jupyter-widgets/controls",
     "model_module_version": "1.5.0",
     "model_name": "ProgressStyleModel",
     "state": {
      "_model_module": "@jupyter-widgets/controls",
      "_model_module_version": "1.5.0",
      "_model_name": "ProgressStyleModel",
      "_view_count": null,
      "_view_module": "@jupyter-widgets/base",
      "_view_module_version": "1.2.0",
      "_view_name": "StyleView",
      "bar_color": null,
      "description_width": ""
     }
    },
    "31648a82b9954fbb9fa5915c02402314": {
     "model_module": "@jupyter-widgets/controls",
     "model_module_version": "1.5.0",
     "model_name": "DescriptionStyleModel",
     "state": {
      "_model_module": "@jupyter-widgets/controls",
      "_model_module_version": "1.5.0",
      "_model_name": "DescriptionStyleModel",
      "_view_count": null,
      "_view_module": "@jupyter-widgets/base",
      "_view_module_version": "1.2.0",
      "_view_name": "StyleView",
      "description_width": ""
     }
    },
    "32277ee64c9b4267aad0a0999c4907b3": {
     "model_module": "@jupyter-widgets/controls",
     "model_module_version": "1.5.0",
     "model_name": "ProgressStyleModel",
     "state": {
      "_model_module": "@jupyter-widgets/controls",
      "_model_module_version": "1.5.0",
      "_model_name": "ProgressStyleModel",
      "_view_count": null,
      "_view_module": "@jupyter-widgets/base",
      "_view_module_version": "1.2.0",
      "_view_name": "StyleView",
      "bar_color": null,
      "description_width": ""
     }
    },
    "3724ae1b686f42cb957df3ff8ee60da9": {
     "model_module": "@jupyter-widgets/base",
     "model_module_version": "1.2.0",
     "model_name": "LayoutModel",
     "state": {
      "_model_module": "@jupyter-widgets/base",
      "_model_module_version": "1.2.0",
      "_model_name": "LayoutModel",
      "_view_count": null,
      "_view_module": "@jupyter-widgets/base",
      "_view_module_version": "1.2.0",
      "_view_name": "LayoutView",
      "align_content": null,
      "align_items": null,
      "align_self": null,
      "border": null,
      "bottom": null,
      "display": null,
      "flex": null,
      "flex_flow": null,
      "grid_area": null,
      "grid_auto_columns": null,
      "grid_auto_flow": null,
      "grid_auto_rows": null,
      "grid_column": null,
      "grid_gap": null,
      "grid_row": null,
      "grid_template_areas": null,
      "grid_template_columns": null,
      "grid_template_rows": null,
      "height": null,
      "justify_content": null,
      "justify_items": null,
      "left": null,
      "margin": null,
      "max_height": null,
      "max_width": null,
      "min_height": null,
      "min_width": null,
      "object_fit": null,
      "object_position": null,
      "order": null,
      "overflow": null,
      "overflow_x": null,
      "overflow_y": null,
      "padding": null,
      "right": null,
      "top": null,
      "visibility": null,
      "width": null
     }
    },
    "374f275d34c341798b6f9153a48645e4": {
     "model_module": "@jupyter-widgets/base",
     "model_module_version": "1.2.0",
     "model_name": "LayoutModel",
     "state": {
      "_model_module": "@jupyter-widgets/base",
      "_model_module_version": "1.2.0",
      "_model_name": "LayoutModel",
      "_view_count": null,
      "_view_module": "@jupyter-widgets/base",
      "_view_module_version": "1.2.0",
      "_view_name": "LayoutView",
      "align_content": null,
      "align_items": null,
      "align_self": null,
      "border": null,
      "bottom": null,
      "display": null,
      "flex": null,
      "flex_flow": null,
      "grid_area": null,
      "grid_auto_columns": null,
      "grid_auto_flow": null,
      "grid_auto_rows": null,
      "grid_column": null,
      "grid_gap": null,
      "grid_row": null,
      "grid_template_areas": null,
      "grid_template_columns": null,
      "grid_template_rows": null,
      "height": null,
      "justify_content": null,
      "justify_items": null,
      "left": null,
      "margin": null,
      "max_height": null,
      "max_width": null,
      "min_height": null,
      "min_width": null,
      "object_fit": null,
      "object_position": null,
      "order": null,
      "overflow": null,
      "overflow_x": null,
      "overflow_y": null,
      "padding": null,
      "right": null,
      "top": null,
      "visibility": null,
      "width": null
     }
    },
    "378001ec3c7f4cd8956dbc125447fa60": {
     "model_module": "@jupyter-widgets/base",
     "model_module_version": "1.2.0",
     "model_name": "LayoutModel",
     "state": {
      "_model_module": "@jupyter-widgets/base",
      "_model_module_version": "1.2.0",
      "_model_name": "LayoutModel",
      "_view_count": null,
      "_view_module": "@jupyter-widgets/base",
      "_view_module_version": "1.2.0",
      "_view_name": "LayoutView",
      "align_content": null,
      "align_items": null,
      "align_self": null,
      "border": null,
      "bottom": null,
      "display": null,
      "flex": null,
      "flex_flow": null,
      "grid_area": null,
      "grid_auto_columns": null,
      "grid_auto_flow": null,
      "grid_auto_rows": null,
      "grid_column": null,
      "grid_gap": null,
      "grid_row": null,
      "grid_template_areas": null,
      "grid_template_columns": null,
      "grid_template_rows": null,
      "height": null,
      "justify_content": null,
      "justify_items": null,
      "left": null,
      "margin": null,
      "max_height": null,
      "max_width": null,
      "min_height": null,
      "min_width": null,
      "object_fit": null,
      "object_position": null,
      "order": null,
      "overflow": null,
      "overflow_x": null,
      "overflow_y": null,
      "padding": null,
      "right": null,
      "top": null,
      "visibility": null,
      "width": null
     }
    },
    "3a9a7b5411da4d7389e6d143f14e4517": {
     "model_module": "@jupyter-widgets/base",
     "model_module_version": "1.2.0",
     "model_name": "LayoutModel",
     "state": {
      "_model_module": "@jupyter-widgets/base",
      "_model_module_version": "1.2.0",
      "_model_name": "LayoutModel",
      "_view_count": null,
      "_view_module": "@jupyter-widgets/base",
      "_view_module_version": "1.2.0",
      "_view_name": "LayoutView",
      "align_content": null,
      "align_items": null,
      "align_self": null,
      "border": null,
      "bottom": null,
      "display": null,
      "flex": null,
      "flex_flow": null,
      "grid_area": null,
      "grid_auto_columns": null,
      "grid_auto_flow": null,
      "grid_auto_rows": null,
      "grid_column": null,
      "grid_gap": null,
      "grid_row": null,
      "grid_template_areas": null,
      "grid_template_columns": null,
      "grid_template_rows": null,
      "height": null,
      "justify_content": null,
      "justify_items": null,
      "left": null,
      "margin": null,
      "max_height": null,
      "max_width": null,
      "min_height": null,
      "min_width": null,
      "object_fit": null,
      "object_position": null,
      "order": null,
      "overflow": null,
      "overflow_x": null,
      "overflow_y": null,
      "padding": null,
      "right": null,
      "top": null,
      "visibility": null,
      "width": null
     }
    },
    "438c316a1bf24733a70d4b4f9560a9f5": {
     "model_module": "@jupyter-widgets/base",
     "model_module_version": "1.2.0",
     "model_name": "LayoutModel",
     "state": {
      "_model_module": "@jupyter-widgets/base",
      "_model_module_version": "1.2.0",
      "_model_name": "LayoutModel",
      "_view_count": null,
      "_view_module": "@jupyter-widgets/base",
      "_view_module_version": "1.2.0",
      "_view_name": "LayoutView",
      "align_content": null,
      "align_items": null,
      "align_self": null,
      "border": null,
      "bottom": null,
      "display": null,
      "flex": null,
      "flex_flow": null,
      "grid_area": null,
      "grid_auto_columns": null,
      "grid_auto_flow": null,
      "grid_auto_rows": null,
      "grid_column": null,
      "grid_gap": null,
      "grid_row": null,
      "grid_template_areas": null,
      "grid_template_columns": null,
      "grid_template_rows": null,
      "height": null,
      "justify_content": null,
      "justify_items": null,
      "left": null,
      "margin": null,
      "max_height": null,
      "max_width": null,
      "min_height": null,
      "min_width": null,
      "object_fit": null,
      "object_position": null,
      "order": null,
      "overflow": null,
      "overflow_x": null,
      "overflow_y": null,
      "padding": null,
      "right": null,
      "top": null,
      "visibility": null,
      "width": null
     }
    },
    "448faf92a39d4834aeb3fa3dcd914657": {
     "model_module": "@jupyter-widgets/controls",
     "model_module_version": "1.5.0",
     "model_name": "ProgressStyleModel",
     "state": {
      "_model_module": "@jupyter-widgets/controls",
      "_model_module_version": "1.5.0",
      "_model_name": "ProgressStyleModel",
      "_view_count": null,
      "_view_module": "@jupyter-widgets/base",
      "_view_module_version": "1.2.0",
      "_view_name": "StyleView",
      "bar_color": null,
      "description_width": ""
     }
    },
    "482a90a8cc01456ab8f65b3ccbe225cd": {
     "model_module": "@jupyter-widgets/controls",
     "model_module_version": "1.5.0",
     "model_name": "DescriptionStyleModel",
     "state": {
      "_model_module": "@jupyter-widgets/controls",
      "_model_module_version": "1.5.0",
      "_model_name": "DescriptionStyleModel",
      "_view_count": null,
      "_view_module": "@jupyter-widgets/base",
      "_view_module_version": "1.2.0",
      "_view_name": "StyleView",
      "description_width": ""
     }
    },
    "55a20bc5c9f24b20a8657123e09eeec6": {
     "model_module": "@jupyter-widgets/controls",
     "model_module_version": "1.5.0",
     "model_name": "HTMLModel",
     "state": {
      "_dom_classes": [],
      "_model_module": "@jupyter-widgets/controls",
      "_model_module_version": "1.5.0",
      "_model_name": "HTMLModel",
      "_view_count": null,
      "_view_module": "@jupyter-widgets/controls",
      "_view_module_version": "1.5.0",
      "_view_name": "HTMLView",
      "description": "",
      "description_tooltip": null,
      "layout": "IPY_MODEL_378001ec3c7f4cd8956dbc125447fa60",
      "placeholder": "​",
      "style": "IPY_MODEL_78f818315a1e412593ccce7327e1cb9c",
      "value": " 4422656/? [00:00&lt;00:00, 7343724.63it/s]"
     }
    },
    "5704851b67f640fe8417bba58108668b": {
     "model_module": "@jupyter-widgets/controls",
     "model_module_version": "1.5.0",
     "model_name": "ProgressStyleModel",
     "state": {
      "_model_module": "@jupyter-widgets/controls",
      "_model_module_version": "1.5.0",
      "_model_name": "ProgressStyleModel",
      "_view_count": null,
      "_view_module": "@jupyter-widgets/base",
      "_view_module_version": "1.2.0",
      "_view_name": "StyleView",
      "bar_color": null,
      "description_width": ""
     }
    },
    "680f8f2283cc4851acf90cd98b0ee529": {
     "model_module": "@jupyter-widgets/controls",
     "model_module_version": "1.5.0",
     "model_name": "DescriptionStyleModel",
     "state": {
      "_model_module": "@jupyter-widgets/controls",
      "_model_module_version": "1.5.0",
      "_model_name": "DescriptionStyleModel",
      "_view_count": null,
      "_view_module": "@jupyter-widgets/base",
      "_view_module_version": "1.2.0",
      "_view_name": "StyleView",
      "description_width": ""
     }
    },
    "6a7768b681eb4b5598a1dfb5781f72c6": {
     "model_module": "@jupyter-widgets/base",
     "model_module_version": "1.2.0",
     "model_name": "LayoutModel",
     "state": {
      "_model_module": "@jupyter-widgets/base",
      "_model_module_version": "1.2.0",
      "_model_name": "LayoutModel",
      "_view_count": null,
      "_view_module": "@jupyter-widgets/base",
      "_view_module_version": "1.2.0",
      "_view_name": "LayoutView",
      "align_content": null,
      "align_items": null,
      "align_self": null,
      "border": null,
      "bottom": null,
      "display": null,
      "flex": null,
      "flex_flow": null,
      "grid_area": null,
      "grid_auto_columns": null,
      "grid_auto_flow": null,
      "grid_auto_rows": null,
      "grid_column": null,
      "grid_gap": null,
      "grid_row": null,
      "grid_template_areas": null,
      "grid_template_columns": null,
      "grid_template_rows": null,
      "height": null,
      "justify_content": null,
      "justify_items": null,
      "left": null,
      "margin": null,
      "max_height": null,
      "max_width": null,
      "min_height": null,
      "min_width": null,
      "object_fit": null,
      "object_position": null,
      "order": null,
      "overflow": null,
      "overflow_x": null,
      "overflow_y": null,
      "padding": null,
      "right": null,
      "top": null,
      "visibility": null,
      "width": null
     }
    },
    "78f818315a1e412593ccce7327e1cb9c": {
     "model_module": "@jupyter-widgets/controls",
     "model_module_version": "1.5.0",
     "model_name": "DescriptionStyleModel",
     "state": {
      "_model_module": "@jupyter-widgets/controls",
      "_model_module_version": "1.5.0",
      "_model_name": "DescriptionStyleModel",
      "_view_count": null,
      "_view_module": "@jupyter-widgets/base",
      "_view_module_version": "1.2.0",
      "_view_name": "StyleView",
      "description_width": ""
     }
    },
    "78fb70906fd745a9a297404ea96ace43": {
     "model_module": "@jupyter-widgets/base",
     "model_module_version": "1.2.0",
     "model_name": "LayoutModel",
     "state": {
      "_model_module": "@jupyter-widgets/base",
      "_model_module_version": "1.2.0",
      "_model_name": "LayoutModel",
      "_view_count": null,
      "_view_module": "@jupyter-widgets/base",
      "_view_module_version": "1.2.0",
      "_view_name": "LayoutView",
      "align_content": null,
      "align_items": null,
      "align_self": null,
      "border": null,
      "bottom": null,
      "display": null,
      "flex": null,
      "flex_flow": null,
      "grid_area": null,
      "grid_auto_columns": null,
      "grid_auto_flow": null,
      "grid_auto_rows": null,
      "grid_column": null,
      "grid_gap": null,
      "grid_row": null,
      "grid_template_areas": null,
      "grid_template_columns": null,
      "grid_template_rows": null,
      "height": null,
      "justify_content": null,
      "justify_items": null,
      "left": null,
      "margin": null,
      "max_height": null,
      "max_width": null,
      "min_height": null,
      "min_width": null,
      "object_fit": null,
      "object_position": null,
      "order": null,
      "overflow": null,
      "overflow_x": null,
      "overflow_y": null,
      "padding": null,
      "right": null,
      "top": null,
      "visibility": null,
      "width": null
     }
    },
    "7d075e8f895c440b85e5fdb75812bb51": {
     "model_module": "@jupyter-widgets/controls",
     "model_module_version": "1.5.0",
     "model_name": "HBoxModel",
     "state": {
      "_dom_classes": [],
      "_model_module": "@jupyter-widgets/controls",
      "_model_module_version": "1.5.0",
      "_model_name": "HBoxModel",
      "_view_count": null,
      "_view_module": "@jupyter-widgets/controls",
      "_view_module_version": "1.5.0",
      "_view_name": "HBoxView",
      "box_style": "",
      "children": [
       "IPY_MODEL_0139e5af1d0b41b7ac1d26e66657349d",
       "IPY_MODEL_9e2bb29cca4d4df8a932953c82c9c23c",
       "IPY_MODEL_55a20bc5c9f24b20a8657123e09eeec6"
      ],
      "layout": "IPY_MODEL_1654d8725cd64dbc92ffb5b269a84817"
     }
    },
    "878323c2883c4948b99ff9fcb5272ed9": {
     "model_module": "@jupyter-widgets/controls",
     "model_module_version": "1.5.0",
     "model_name": "DescriptionStyleModel",
     "state": {
      "_model_module": "@jupyter-widgets/controls",
      "_model_module_version": "1.5.0",
      "_model_name": "DescriptionStyleModel",
      "_view_count": null,
      "_view_module": "@jupyter-widgets/base",
      "_view_module_version": "1.2.0",
      "_view_name": "StyleView",
      "description_width": ""
     }
    },
    "87da33861227437497f1c9310068431d": {
     "model_module": "@jupyter-widgets/base",
     "model_module_version": "1.2.0",
     "model_name": "LayoutModel",
     "state": {
      "_model_module": "@jupyter-widgets/base",
      "_model_module_version": "1.2.0",
      "_model_name": "LayoutModel",
      "_view_count": null,
      "_view_module": "@jupyter-widgets/base",
      "_view_module_version": "1.2.0",
      "_view_name": "LayoutView",
      "align_content": null,
      "align_items": null,
      "align_self": null,
      "border": null,
      "bottom": null,
      "display": null,
      "flex": null,
      "flex_flow": null,
      "grid_area": null,
      "grid_auto_columns": null,
      "grid_auto_flow": null,
      "grid_auto_rows": null,
      "grid_column": null,
      "grid_gap": null,
      "grid_row": null,
      "grid_template_areas": null,
      "grid_template_columns": null,
      "grid_template_rows": null,
      "height": null,
      "justify_content": null,
      "justify_items": null,
      "left": null,
      "margin": null,
      "max_height": null,
      "max_width": null,
      "min_height": null,
      "min_width": null,
      "object_fit": null,
      "object_position": null,
      "order": null,
      "overflow": null,
      "overflow_x": null,
      "overflow_y": null,
      "padding": null,
      "right": null,
      "top": null,
      "visibility": null,
      "width": null
     }
    },
    "9b435a598ede4c8d81269614426f72e9": {
     "model_module": "@jupyter-widgets/base",
     "model_module_version": "1.2.0",
     "model_name": "LayoutModel",
     "state": {
      "_model_module": "@jupyter-widgets/base",
      "_model_module_version": "1.2.0",
      "_model_name": "LayoutModel",
      "_view_count": null,
      "_view_module": "@jupyter-widgets/base",
      "_view_module_version": "1.2.0",
      "_view_name": "LayoutView",
      "align_content": null,
      "align_items": null,
      "align_self": null,
      "border": null,
      "bottom": null,
      "display": null,
      "flex": null,
      "flex_flow": null,
      "grid_area": null,
      "grid_auto_columns": null,
      "grid_auto_flow": null,
      "grid_auto_rows": null,
      "grid_column": null,
      "grid_gap": null,
      "grid_row": null,
      "grid_template_areas": null,
      "grid_template_columns": null,
      "grid_template_rows": null,
      "height": null,
      "justify_content": null,
      "justify_items": null,
      "left": null,
      "margin": null,
      "max_height": null,
      "max_width": null,
      "min_height": null,
      "min_width": null,
      "object_fit": null,
      "object_position": null,
      "order": null,
      "overflow": null,
      "overflow_x": null,
      "overflow_y": null,
      "padding": null,
      "right": null,
      "top": null,
      "visibility": null,
      "width": null
     }
    },
    "9d349b192ab74cb4832e3fa15b3db0de": {
     "model_module": "@jupyter-widgets/controls",
     "model_module_version": "1.5.0",
     "model_name": "HBoxModel",
     "state": {
      "_dom_classes": [],
      "_model_module": "@jupyter-widgets/controls",
      "_model_module_version": "1.5.0",
      "_model_name": "HBoxModel",
      "_view_count": null,
      "_view_module": "@jupyter-widgets/controls",
      "_view_module_version": "1.5.0",
      "_view_name": "HBoxView",
      "box_style": "",
      "children": [
       "IPY_MODEL_0f873b686fe640cc9fc318e3dd655deb",
       "IPY_MODEL_cf4e9c0a135742fc9b8c176f8dbad8c1",
       "IPY_MODEL_d6d226df68994a6c9951deb7b7a3fd89"
      ],
      "layout": "IPY_MODEL_6a7768b681eb4b5598a1dfb5781f72c6"
     }
    },
    "9e2bb29cca4d4df8a932953c82c9c23c": {
     "model_module": "@jupyter-widgets/controls",
     "model_module_version": "1.5.0",
     "model_name": "FloatProgressModel",
     "state": {
      "_dom_classes": [],
      "_model_module": "@jupyter-widgets/controls",
      "_model_module_version": "1.5.0",
      "_model_name": "FloatProgressModel",
      "_view_count": null,
      "_view_module": "@jupyter-widgets/controls",
      "_view_module_version": "1.5.0",
      "_view_name": "ProgressView",
      "bar_style": "success",
      "description": "",
      "description_tooltip": null,
      "layout": "IPY_MODEL_87da33861227437497f1c9310068431d",
      "max": 4422102,
      "min": 0,
      "orientation": "horizontal",
      "style": "IPY_MODEL_24e4bb33bfb74f2489e8a3ba245f53e2",
      "value": 4422102
     }
    },
    "b1a28a2e4a784958b8e592bd61f85634": {
     "model_module": "@jupyter-widgets/controls",
     "model_module_version": "1.5.0",
     "model_name": "HBoxModel",
     "state": {
      "_dom_classes": [],
      "_model_module": "@jupyter-widgets/controls",
      "_model_module_version": "1.5.0",
      "_model_name": "HBoxModel",
      "_view_count": null,
      "_view_module": "@jupyter-widgets/controls",
      "_view_module_version": "1.5.0",
      "_view_name": "HBoxView",
      "box_style": "",
      "children": [
       "IPY_MODEL_190a8d1acd9c4e5586efa72d7e54d92d",
       "IPY_MODEL_f47f50cc7af1452f95974d77c5ab5faa",
       "IPY_MODEL_df69f76c7249447886d8ac2753749407"
      ],
      "layout": "IPY_MODEL_9b435a598ede4c8d81269614426f72e9"
     }
    },
    "b4c9e6a5a2854747b3cb9f8dc68327ac": {
     "model_module": "@jupyter-widgets/controls",
     "model_module_version": "1.5.0",
     "model_name": "DescriptionStyleModel",
     "state": {
      "_model_module": "@jupyter-widgets/controls",
      "_model_module_version": "1.5.0",
      "_model_name": "DescriptionStyleModel",
      "_view_count": null,
      "_view_module": "@jupyter-widgets/base",
      "_view_module_version": "1.2.0",
      "_view_name": "StyleView",
      "description_width": ""
     }
    },
    "bc29dcac76aa4f209f1984533766db57": {
     "model_module": "@jupyter-widgets/controls",
     "model_module_version": "1.5.0",
     "model_name": "FloatProgressModel",
     "state": {
      "_dom_classes": [],
      "_model_module": "@jupyter-widgets/controls",
      "_model_module_version": "1.5.0",
      "_model_name": "FloatProgressModel",
      "_view_count": null,
      "_view_module": "@jupyter-widgets/controls",
      "_view_module_version": "1.5.0",
      "_view_name": "ProgressView",
      "bar_style": "success",
      "description": "",
      "description_tooltip": null,
      "layout": "IPY_MODEL_1d0e3d7fb64d4b17ae2867b6dce814bd",
      "max": 26421880,
      "min": 0,
      "orientation": "horizontal",
      "style": "IPY_MODEL_448faf92a39d4834aeb3fa3dcd914657",
      "value": 26421880
     }
    },
    "bca85df6ac0544d0b56ed8c94edd2fb7": {
     "model_module": "@jupyter-widgets/controls",
     "model_module_version": "1.5.0",
     "model_name": "DescriptionStyleModel",
     "state": {
      "_model_module": "@jupyter-widgets/controls",
      "_model_module_version": "1.5.0",
      "_model_name": "DescriptionStyleModel",
      "_view_count": null,
      "_view_module": "@jupyter-widgets/base",
      "_view_module_version": "1.2.0",
      "_view_name": "StyleView",
      "description_width": ""
     }
    },
    "c9ef224b5dec475584dafa7f5760ddcb": {
     "model_module": "@jupyter-widgets/base",
     "model_module_version": "1.2.0",
     "model_name": "LayoutModel",
     "state": {
      "_model_module": "@jupyter-widgets/base",
      "_model_module_version": "1.2.0",
      "_model_name": "LayoutModel",
      "_view_count": null,
      "_view_module": "@jupyter-widgets/base",
      "_view_module_version": "1.2.0",
      "_view_name": "LayoutView",
      "align_content": null,
      "align_items": null,
      "align_self": null,
      "border": null,
      "bottom": null,
      "display": null,
      "flex": null,
      "flex_flow": null,
      "grid_area": null,
      "grid_auto_columns": null,
      "grid_auto_flow": null,
      "grid_auto_rows": null,
      "grid_column": null,
      "grid_gap": null,
      "grid_row": null,
      "grid_template_areas": null,
      "grid_template_columns": null,
      "grid_template_rows": null,
      "height": null,
      "justify_content": null,
      "justify_items": null,
      "left": null,
      "margin": null,
      "max_height": null,
      "max_width": null,
      "min_height": null,
      "min_width": null,
      "object_fit": null,
      "object_position": null,
      "order": null,
      "overflow": null,
      "overflow_x": null,
      "overflow_y": null,
      "padding": null,
      "right": null,
      "top": null,
      "visibility": null,
      "width": null
     }
    },
    "cf4e9c0a135742fc9b8c176f8dbad8c1": {
     "model_module": "@jupyter-widgets/controls",
     "model_module_version": "1.5.0",
     "model_name": "FloatProgressModel",
     "state": {
      "_dom_classes": [],
      "_model_module": "@jupyter-widgets/controls",
      "_model_module_version": "1.5.0",
      "_model_name": "FloatProgressModel",
      "_view_count": null,
      "_view_module": "@jupyter-widgets/controls",
      "_view_module_version": "1.5.0",
      "_view_name": "ProgressView",
      "bar_style": "success",
      "description": "",
      "description_tooltip": null,
      "layout": "IPY_MODEL_438c316a1bf24733a70d4b4f9560a9f5",
      "max": 29515,
      "min": 0,
      "orientation": "horizontal",
      "style": "IPY_MODEL_32277ee64c9b4267aad0a0999c4907b3",
      "value": 29515
     }
    },
    "d6d226df68994a6c9951deb7b7a3fd89": {
     "model_module": "@jupyter-widgets/controls",
     "model_module_version": "1.5.0",
     "model_name": "HTMLModel",
     "state": {
      "_dom_classes": [],
      "_model_module": "@jupyter-widgets/controls",
      "_model_module_version": "1.5.0",
      "_model_name": "HTMLModel",
      "_view_count": null,
      "_view_module": "@jupyter-widgets/controls",
      "_view_module_version": "1.5.0",
      "_view_name": "HTMLView",
      "description": "",
      "description_tooltip": null,
      "layout": "IPY_MODEL_3724ae1b686f42cb957df3ff8ee60da9",
      "placeholder": "​",
      "style": "IPY_MODEL_31648a82b9954fbb9fa5915c02402314",
      "value": " 29696/? [00:00&lt;00:00, 124835.56it/s]"
     }
    },
    "dce37ccab0de496786bc6b5fee3767c0": {
     "model_module": "@jupyter-widgets/base",
     "model_module_version": "1.2.0",
     "model_name": "LayoutModel",
     "state": {
      "_model_module": "@jupyter-widgets/base",
      "_model_module_version": "1.2.0",
      "_model_name": "LayoutModel",
      "_view_count": null,
      "_view_module": "@jupyter-widgets/base",
      "_view_module_version": "1.2.0",
      "_view_name": "LayoutView",
      "align_content": null,
      "align_items": null,
      "align_self": null,
      "border": null,
      "bottom": null,
      "display": null,
      "flex": null,
      "flex_flow": null,
      "grid_area": null,
      "grid_auto_columns": null,
      "grid_auto_flow": null,
      "grid_auto_rows": null,
      "grid_column": null,
      "grid_gap": null,
      "grid_row": null,
      "grid_template_areas": null,
      "grid_template_columns": null,
      "grid_template_rows": null,
      "height": null,
      "justify_content": null,
      "justify_items": null,
      "left": null,
      "margin": null,
      "max_height": null,
      "max_width": null,
      "min_height": null,
      "min_width": null,
      "object_fit": null,
      "object_position": null,
      "order": null,
      "overflow": null,
      "overflow_x": null,
      "overflow_y": null,
      "padding": null,
      "right": null,
      "top": null,
      "visibility": null,
      "width": null
     }
    },
    "df69f76c7249447886d8ac2753749407": {
     "model_module": "@jupyter-widgets/controls",
     "model_module_version": "1.5.0",
     "model_name": "HTMLModel",
     "state": {
      "_dom_classes": [],
      "_model_module": "@jupyter-widgets/controls",
      "_model_module_version": "1.5.0",
      "_model_name": "HTMLModel",
      "_view_count": null,
      "_view_module": "@jupyter-widgets/controls",
      "_view_module_version": "1.5.0",
      "_view_name": "HTMLView",
      "description": "",
      "description_tooltip": null,
      "layout": "IPY_MODEL_ff1f646907b44b7f9e68b21c50d56be5",
      "placeholder": "​",
      "style": "IPY_MODEL_b4c9e6a5a2854747b3cb9f8dc68327ac",
      "value": " 6144/? [00:00&lt;00:00, 115842.77it/s]"
     }
    },
    "e33f88f68a0d457f987340c4ab93affb": {
     "model_module": "@jupyter-widgets/base",
     "model_module_version": "1.2.0",
     "model_name": "LayoutModel",
     "state": {
      "_model_module": "@jupyter-widgets/base",
      "_model_module_version": "1.2.0",
      "_model_name": "LayoutModel",
      "_view_count": null,
      "_view_module": "@jupyter-widgets/base",
      "_view_module_version": "1.2.0",
      "_view_name": "LayoutView",
      "align_content": null,
      "align_items": null,
      "align_self": null,
      "border": null,
      "bottom": null,
      "display": null,
      "flex": null,
      "flex_flow": null,
      "grid_area": null,
      "grid_auto_columns": null,
      "grid_auto_flow": null,
      "grid_auto_rows": null,
      "grid_column": null,
      "grid_gap": null,
      "grid_row": null,
      "grid_template_areas": null,
      "grid_template_columns": null,
      "grid_template_rows": null,
      "height": null,
      "justify_content": null,
      "justify_items": null,
      "left": null,
      "margin": null,
      "max_height": null,
      "max_width": null,
      "min_height": null,
      "min_width": null,
      "object_fit": null,
      "object_position": null,
      "order": null,
      "overflow": null,
      "overflow_x": null,
      "overflow_y": null,
      "padding": null,
      "right": null,
      "top": null,
      "visibility": null,
      "width": null
     }
    },
    "ec2dbcfc1e714196889549837d9473e9": {
     "model_module": "@jupyter-widgets/base",
     "model_module_version": "1.2.0",
     "model_name": "LayoutModel",
     "state": {
      "_model_module": "@jupyter-widgets/base",
      "_model_module_version": "1.2.0",
      "_model_name": "LayoutModel",
      "_view_count": null,
      "_view_module": "@jupyter-widgets/base",
      "_view_module_version": "1.2.0",
      "_view_name": "LayoutView",
      "align_content": null,
      "align_items": null,
      "align_self": null,
      "border": null,
      "bottom": null,
      "display": null,
      "flex": null,
      "flex_flow": null,
      "grid_area": null,
      "grid_auto_columns": null,
      "grid_auto_flow": null,
      "grid_auto_rows": null,
      "grid_column": null,
      "grid_gap": null,
      "grid_row": null,
      "grid_template_areas": null,
      "grid_template_columns": null,
      "grid_template_rows": null,
      "height": null,
      "justify_content": null,
      "justify_items": null,
      "left": null,
      "margin": null,
      "max_height": null,
      "max_width": null,
      "min_height": null,
      "min_width": null,
      "object_fit": null,
      "object_position": null,
      "order": null,
      "overflow": null,
      "overflow_x": null,
      "overflow_y": null,
      "padding": null,
      "right": null,
      "top": null,
      "visibility": null,
      "width": null
     }
    },
    "ed4cf8a561034f69b1913d60a4f18e9a": {
     "model_module": "@jupyter-widgets/controls",
     "model_module_version": "1.5.0",
     "model_name": "HBoxModel",
     "state": {
      "_dom_classes": [],
      "_model_module": "@jupyter-widgets/controls",
      "_model_module_version": "1.5.0",
      "_model_name": "HBoxModel",
      "_view_count": null,
      "_view_module": "@jupyter-widgets/controls",
      "_view_module_version": "1.5.0",
      "_view_name": "HBoxView",
      "box_style": "",
      "children": [
       "IPY_MODEL_01a2e6e05c8e40c480a89ace9e6d3042",
       "IPY_MODEL_bc29dcac76aa4f209f1984533766db57",
       "IPY_MODEL_15ebcaf5365f427bb21a91db79c185f0"
      ],
      "layout": "IPY_MODEL_ec2dbcfc1e714196889549837d9473e9"
     }
    },
    "f47f50cc7af1452f95974d77c5ab5faa": {
     "model_module": "@jupyter-widgets/controls",
     "model_module_version": "1.5.0",
     "model_name": "FloatProgressModel",
     "state": {
      "_dom_classes": [],
      "_model_module": "@jupyter-widgets/controls",
      "_model_module_version": "1.5.0",
      "_model_name": "FloatProgressModel",
      "_view_count": null,
      "_view_module": "@jupyter-widgets/controls",
      "_view_module_version": "1.5.0",
      "_view_name": "ProgressView",
      "bar_style": "success",
      "description": "",
      "description_tooltip": null,
      "layout": "IPY_MODEL_c9ef224b5dec475584dafa7f5760ddcb",
      "max": 5148,
      "min": 0,
      "orientation": "horizontal",
      "style": "IPY_MODEL_5704851b67f640fe8417bba58108668b",
      "value": 5148
     }
    },
    "ff1f646907b44b7f9e68b21c50d56be5": {
     "model_module": "@jupyter-widgets/base",
     "model_module_version": "1.2.0",
     "model_name": "LayoutModel",
     "state": {
      "_model_module": "@jupyter-widgets/base",
      "_model_module_version": "1.2.0",
      "_model_name": "LayoutModel",
      "_view_count": null,
      "_view_module": "@jupyter-widgets/base",
      "_view_module_version": "1.2.0",
      "_view_name": "LayoutView",
      "align_content": null,
      "align_items": null,
      "align_self": null,
      "border": null,
      "bottom": null,
      "display": null,
      "flex": null,
      "flex_flow": null,
      "grid_area": null,
      "grid_auto_columns": null,
      "grid_auto_flow": null,
      "grid_auto_rows": null,
      "grid_column": null,
      "grid_gap": null,
      "grid_row": null,
      "grid_template_areas": null,
      "grid_template_columns": null,
      "grid_template_rows": null,
      "height": null,
      "justify_content": null,
      "justify_items": null,
      "left": null,
      "margin": null,
      "max_height": null,
      "max_width": null,
      "min_height": null,
      "min_width": null,
      "object_fit": null,
      "object_position": null,
      "order": null,
      "overflow": null,
      "overflow_x": null,
      "overflow_y": null,
      "padding": null,
      "right": null,
      "top": null,
      "visibility": null,
      "width": null
     }
    }
   }
  }
 },
 "nbformat": 4,
 "nbformat_minor": 5
}
